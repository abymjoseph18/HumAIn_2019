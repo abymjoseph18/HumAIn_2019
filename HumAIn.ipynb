{
 "cells": [
  {
   "cell_type": "markdown",
   "metadata": {},
   "source": [
    "# TCS HumAIn Problem statement 2"
   ]
  },
  {
   "cell_type": "code",
   "execution_count": 4,
   "metadata": {},
   "outputs": [],
   "source": [
    "\n",
    "import pandas as pd\n",
    "import numpy as np\n",
    "import matplotlib.pyplot as plt\n",
    "import datetime\n",
    "import statsmodels.api as sm  \n",
    "from statsmodels.tsa.stattools import acf, pacf\n",
    "from statsmodels.tsa.stattools import adfuller\n",
    "from statsmodels.tsa.arima_model import ARIMA\n",
    "\n",
    "%matplotlib inline"
   ]
  },
  {
   "cell_type": "code",
   "execution_count": null,
   "metadata": {},
   "outputs": [],
   "source": [
    "dataset = pd.read_csv('data/Power-Networks-LCL.csv', parse_dates=True, index_col=0)\n",
    "dataset.info()"
   ]
  },
  {
   "cell_type": "code",
   "execution_count": 6,
   "metadata": {},
   "outputs": [],
   "source": [
    "grp=dataset.groupby('LCLid')\n"
   ]
  },
  {
   "cell_type": "code",
   "execution_count": null,
   "metadata": {},
   "outputs": [],
   "source": [
    "grp.first()"
   ]
  },
  {
   "cell_type": "code",
   "execution_count": null,
   "metadata": {},
   "outputs": [],
   "source": [
    "grp.last()"
   ]
  },
  {
   "cell_type": "code",
   "execution_count": null,
   "metadata": {},
   "outputs": [],
   "source": [
    "for Lid,Lid_df in grp:\n",
    "    print(Lid)\n",
    "    print(Lid_df)"
   ]
  },
  {
   "cell_type": "code",
   "execution_count": null,
   "metadata": {},
   "outputs": [],
   "source": [
    "#Hard code one household forecast\n",
    "X =grp.get_group('MAC000020')\n",
    "\n",
    "X.to_csv('output/top3.csv')\n",
    "X"
   ]
  },
  {
   "cell_type": "code",
   "execution_count": null,
   "metadata": {},
   "outputs": [],
   "source": [
    "data = pd.DataFrame.from_csv('output/top3.csv', index_col=0) \n",
    "data.head()\n",
    "print (data.shape)\n",
    "print (data.dtypes)"
   ]
  },
  {
   "cell_type": "code",
   "execution_count": null,
   "metadata": {},
   "outputs": [],
   "source": [
    "start = datetime.datetime(2012,2,20)\n",
    "end = datetime.datetime(2014,2,28)\n",
    "\n",
    "\n",
    "plt.figure(figsize=(20,4))\n",
    "ax = plt.gca()\n",
    "ax.set_xlabel('Time')\n",
    "ax.set_ylabel('KWH')\n",
    "ax.set_xlim(start, end)\n",
    "plt.plot(data['DateTime'], data['KWh']);"
   ]
  },
  {
   "cell_type": "code",
   "execution_count": null,
   "metadata": {},
   "outputs": [],
   "source": [
    "fig = plt.figure(figsize=(20,8))\n",
    "model = ARIMA(clear_data['KWh'], order=(1,0,0)) \n",
    "ax = plt.gca()\n",
    "results = model.fit() \n",
    "plt.plot(clear_data['KWh'])\n",
    "plt.plot(results.fittedvalues, color='red')\n",
    "\n",
    "\n",
    "print results.summary()"
   ]
  },
  {
   "cell_type": "code",
   "execution_count": null,
   "metadata": {},
   "outputs": [],
   "source": [
    "# fit ARIMA model\n",
    "fig = plt.figure(figsize=(20,8))\n",
    "model = ARIMA(clear_data['KWh'], order=(1,0,1)) \n",
    "ax = plt.gca()\n",
    "results = model.fit() \n",
    "plt.plot(clear_data['KWh'])\n",
    "plt.plot(results.fittedvalues, color='red')\n",
    "\n",
    "\n",
    "print results.summary()"
   ]
  },
  {
   "cell_type": "code",
   "execution_count": null,
   "metadata": {},
   "outputs": [],
   "source": [
    "\n",
    "# forecast \n",
    "fig = plt.figure(figsize=(20,8))\n",
    "num_points = len(clear_data['KWh'])\n",
    "x = results.predict(start=(1200), end=(1352), dynamic=False)\n",
    "\n",
    "plt.plot(clear_data['car.count'][:1200])\n",
    "plt.plot(x, color='r')"
   ]
  },
  {
   "cell_type": "code",
   "execution_count": null,
   "metadata": {},
   "outputs": [],
   "source": []
  },
  {
   "cell_type": "code",
   "execution_count": null,
   "metadata": {},
   "outputs": [],
   "source": []
  }
 ],
 "metadata": {
  "kernelspec": {
   "display_name": "Python 3",
   "language": "python",
   "name": "python3"
  },
  "language_info": {
   "codemirror_mode": {
    "name": "ipython",
    "version": 3
   },
   "file_extension": ".py",
   "mimetype": "text/x-python",
   "name": "python",
   "nbconvert_exporter": "python",
   "pygments_lexer": "ipython3",
   "version": "3.7.1"
  }
 },
 "nbformat": 4,
 "nbformat_minor": 2
}
